{
  "nbformat": 4,
  "nbformat_minor": 0,
  "metadata": {
    "colab": {
      "name": "linear regression(OLS)from scratch.ipynb",
      "provenance": [],
      "authorship_tag": "ABX9TyOPKzc2ZsIcFzVyhPYhRIEi",
      "include_colab_link": true
    },
    "kernelspec": {
      "name": "python3",
      "display_name": "Python 3"
    }
  },
  "cells": [
    {
      "cell_type": "markdown",
      "metadata": {
        "id": "view-in-github",
        "colab_type": "text"
      },
      "source": [
        "<a href=\"https://colab.research.google.com/github/vivekyadav21/machine-learning/blob/main/linear_regression(OLS)from_scratch.ipynb\" target=\"_parent\"><img src=\"https://colab.research.google.com/assets/colab-badge.svg\" alt=\"Open In Colab\"/></a>"
      ]
    },
    {
      "cell_type": "code",
      "metadata": {
        "id": "BvCD30Fcepo7"
      },
      "source": [
        "\r\n",
        "from math import sqrt\r\n"
      ],
      "execution_count": 55,
      "outputs": []
    },
    {
      "cell_type": "code",
      "metadata": {
        "id": "FEn9Dsz87HFb"
      },
      "source": [
        "#some utility function \r\n",
        "def mean(values):\r\n",
        "  mean_value=sum(values) / float(len(values))\r\n",
        "  return mean_value\r\n",
        "# Calculate the variance of a list of numbers\r\n",
        "def variance(values, mean):\r\n",
        "  var=0\r\n",
        "  for i in range(len(values)):\r\n",
        "    var+=(values[i]-mean)**2  \r\n",
        "  return var\r\n",
        "# Calculate covariance between x and y\r\n",
        "def covariance(x, mean_x, y, mean_y):\r\n",
        "  covar = 0.0\r\n",
        "  for i in range(len(x)):\r\n",
        "    covar += (x[i] - mean_x) * (y[i] - mean_y)\r\n",
        "  return covar\r\n",
        "# Calculate coefficients(betas)\r\n",
        "def coefficients(dataset):\r\n",
        "  x = [row[0] for row in dataset]\r\n",
        "  y = [row[1] for row in dataset]\r\n",
        "  x_mean, y_mean = mean(x), mean(y)\r\n",
        "  b1 = covariance(x, x_mean, y, y_mean) / variance(x, x_mean)\r\n",
        "  b0 = y_mean - b1 * x_mean\r\n",
        "  return [b0, b1]\r\n"
      ],
      "execution_count": 61,
      "outputs": []
    },
    {
      "cell_type": "code",
      "metadata": {
        "id": "BLt54tzk8POZ"
      },
      "source": [
        "# Simple linear regression algorithm\r\n",
        "def simple_linear_regression(train, test):\r\n",
        "\tpredictions = []\r\n",
        "\tb0, b1 = coefficients(train)\r\n",
        "\tfor row in test:\r\n",
        "\t\tyhat = b0 + b1 * row[0]\r\n",
        "\t\tpredictions.append(yhat)\r\n",
        "\treturn predictions\r\n",
        "# Evaluate regression algorithm on training dataset\r\n",
        "def evaluate_algorithm(dataset, algorithm):\r\n",
        "\ttest_set = []\r\n",
        "\tfor row in dataset:\r\n",
        "\t\trow_copy = list(row)\r\n",
        "\t\trow_copy[-1] = None\r\n",
        "\t\ttest_set.append(row_copy)\r\n",
        "\tpredicted = algorithm(dataset, test_set)\r\n",
        "\tactual = [row[-1] for row in dataset]\r\n",
        "\trmse = rmse_metric(actual, predicted)\r\n",
        "\treturn predicted,rmse"
      ],
      "execution_count": 64,
      "outputs": []
    },
    {
      "cell_type": "code",
      "metadata": {
        "colab": {
          "base_uri": "https://localhost:8080/"
        },
        "id": "88oLQ11cxX8Y",
        "outputId": "e77767aa-7f27-4ba7-812f-b42aa5152249"
      },
      "source": [
        "\r\n",
        "# Test simple linear regression\r\n",
        "dataset = [[1, 1], [2, 3], [4, 3], [3, 2], [5, 5]]\r\n",
        "predicton,rmse = evaluate_algorithm(dataset, simple_linear_regression)\r\n",
        "print('RMSE: %.3f' % (rmse))"
      ],
      "execution_count": 68,
      "outputs": [
        {
          "output_type": "stream",
          "text": [
            "RMSE: 0.693\n"
          ],
          "name": "stdout"
        }
      ]
    }
  ]
}