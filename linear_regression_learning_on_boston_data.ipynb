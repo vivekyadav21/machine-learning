{
  "nbformat": 4,
  "nbformat_minor": 0,
  "metadata": {
    "colab": {
      "name": "linear_regression_learning_on_boston_data.ipynb",
      "provenance": [],
      "collapsed_sections": [],
      "authorship_tag": "ABX9TyMIlC+XOgahVIMg1wlsIu4q",
      "include_colab_link": true
    },
    "kernelspec": {
      "name": "python3",
      "display_name": "Python 3"
    }
  },
  "cells": [
    {
      "cell_type": "markdown",
      "metadata": {
        "id": "view-in-github",
        "colab_type": "text"
      },
      "source": [
        "<a href=\"https://colab.research.google.com/github/vivekyadav21/machine-learning/blob/main/linear_regression_learning_on_boston_data.ipynb\" target=\"_parent\"><img src=\"https://colab.research.google.com/assets/colab-badge.svg\" alt=\"Open In Colab\"/></a>"
      ]
    },
    {
      "cell_type": "code",
      "metadata": {
        "id": "ovA_KwL3_aXS"
      },
      "source": [
        "\r\n",
        "import sklearn\r\n",
        "from sklearn.datasets import load_boston\r\n",
        "from sklearn.metrics import r2_score\r\n",
        "from sklearn.model_selection import train_test_split\r\n",
        "from sklearn.linear_model import LinearRegression\r\n",
        "from sklearn.metrics import mean_squared_error"
      ],
      "execution_count": 33,
      "outputs": []
    },
    {
      "cell_type": "code",
      "metadata": {
        "id": "RpvfDf6h_yxf"
      },
      "source": [
        "X,y=load_boston(return_X_y=True)\r\n",
        "train_X,test_X,train_y,test_y=train_test_split(X,y,test_size=.33,random_state=20)\r\n",
        "linear_model=LinearRegression()\r\n",
        "linear_model.fit(train_X,train_y)\r\n",
        "predicted=linear_model.predict(test_X)\r\n"
      ],
      "execution_count": 34,
      "outputs": []
    },
    {
      "cell_type": "code",
      "metadata": {
        "id": "juH7jk2WPgmP"
      },
      "source": [
        "r2=r2_score(test_y,predicted)\r\n",
        "rmse=mean_squared_error(test_y,predicted)"
      ],
      "execution_count": 35,
      "outputs": []
    }
  ]
}